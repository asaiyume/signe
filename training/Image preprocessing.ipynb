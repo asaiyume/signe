{
 "cells": [
  {
   "cell_type": "code",
   "execution_count": 1,
   "id": "compact-interest",
   "metadata": {},
   "outputs": [],
   "source": [
    "import os, shutil"
   ]
  },
  {
   "cell_type": "code",
   "execution_count": 2,
   "id": "worth-heavy",
   "metadata": {},
   "outputs": [
    {
     "name": "stdout",
     "output_type": "stream",
     "text": [
      "['A', 'B', 'C', 'D', 'del', 'E', 'F', 'G', 'H', 'I', 'J', 'K', 'L', 'M', 'N', 'nothing', 'O', 'P', 'Q', 'R', 'S', 'space', 'T', 'U', 'V', 'W', 'X', 'Y', 'Z']\n"
     ]
    }
   ],
   "source": [
    "#Set base dir and image dir\n",
    "image_dir = '../data/archive/asl_alphabet_train/asl_alphabet_train'\n",
    "base_dir = '../data'\n",
    "print(os.listdir(image_dir))"
   ]
  },
  {
   "cell_type": "code",
   "execution_count": 3,
   "id": "incident-column",
   "metadata": {},
   "outputs": [],
   "source": [
    "# Directories for your training, validation and test splits\n",
    "train_dir = os.path.join(base_dir, 'train')\n",
    "os.mkdir(train_dir)\n",
    "validation_dir = os.path.join(base_dir, 'validation')\n",
    "os.mkdir(validation_dir)\n",
    "test_dir = os.path.join(base_dir, 'test')\n",
    "os.mkdir(test_dir)"
   ]
  },
  {
   "cell_type": "code",
   "execution_count": 4,
   "id": "legitimate-nurse",
   "metadata": {},
   "outputs": [],
   "source": [
    "#Train folder, 80%\n",
    "item_list = os.listdir(image_dir)\n",
    "\n",
    "for item in item_list:\n",
    "    train_item_dir = os.path.join(train_dir, item)\n",
    "    os.mkdir(train_item_dir)\n",
    "    img_list = os.listdir(os.path.join(image_dir, item))[:2400]\n",
    "    for fname in img_list:\n",
    "        src = os.path.join(image_dir, item, fname)\n",
    "        dst = os.path.join(train_item_dir, fname)\n",
    "        shutil.copyfile(src, dst)"
   ]
  },
  {
   "cell_type": "code",
   "execution_count": 10,
   "id": "demonstrated-extension",
   "metadata": {},
   "outputs": [],
   "source": [
    "#Validation folder, 15%\n",
    "item_list = os.listdir(image_dir)\n",
    "\n",
    "for item in item_list:\n",
    "    validation_item_dir = os.path.join(validation_dir, item)\n",
    "    os.mkdir(validation_item_dir)\n",
    "    img_list = os.listdir(os.path.join(image_dir, item))[2400:2850]\n",
    "    for fname in img_list:\n",
    "        src = os.path.join(image_dir, item, fname)\n",
    "        dst = os.path.join(validation_item_dir, fname)\n",
    "        shutil.copyfile(src, dst)"
   ]
  },
  {
   "cell_type": "code",
   "execution_count": 11,
   "id": "loving-petite",
   "metadata": {},
   "outputs": [],
   "source": [
    "#Test folder, 5%\n",
    "item_list = os.listdir(image_dir)\n",
    "\n",
    "for item in item_list:\n",
    "    test_item_dir = os.path.join(test_dir, item)\n",
    "    os.mkdir(test_item_dir)\n",
    "    img_list = os.listdir(os.path.join(image_dir, item))[2850:3000]\n",
    "    for fname in img_list:\n",
    "        src = os.path.join(image_dir, item, fname)\n",
    "        dst = os.path.join(test_item_dir, fname)\n",
    "        shutil.copyfile(src, dst)"
   ]
  },
  {
   "cell_type": "code",
   "execution_count": null,
   "id": "relevant-vegetable",
   "metadata": {},
   "outputs": [],
   "source": []
  }
 ],
 "metadata": {
  "kernelspec": {
   "display_name": "Python 3",
   "language": "python",
   "name": "python3"
  },
  "language_info": {
   "codemirror_mode": {
    "name": "ipython",
    "version": 3
   },
   "file_extension": ".py",
   "mimetype": "text/x-python",
   "name": "python",
   "nbconvert_exporter": "python",
   "pygments_lexer": "ipython3",
   "version": "3.8.10"
  }
 },
 "nbformat": 4,
 "nbformat_minor": 5
}
