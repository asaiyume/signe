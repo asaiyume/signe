{
 "cells": [
  {
   "cell_type": "code",
   "execution_count": 11,
   "id": "bigger-villa",
   "metadata": {},
   "outputs": [
    {
     "name": "stdout",
     "output_type": "stream",
     "text": [
      "keras:  2.4.0\n",
      "[name: \"/device:CPU:0\"\n",
      "device_type: \"CPU\"\n",
      "memory_limit: 268435456\n",
      "locality {\n",
      "}\n",
      "incarnation: 17943850544141902268\n",
      ", name: \"/device:GPU:0\"\n",
      "device_type: \"GPU\"\n",
      "memory_limit: 9988323456\n",
      "locality {\n",
      "  bus_id: 1\n",
      "  links {\n",
      "  }\n",
      "}\n",
      "incarnation: 12982863783425856474\n",
      "physical_device_desc: \"device: 0, name: NVIDIA GeForce GTX 1080 Ti, pci bus id: 0000:09:00.0, compute capability: 6.1\"\n",
      "]\n",
      "True\n",
      "[PhysicalDevice(name='/physical_device:GPU:0', device_type='GPU')]\n"
     ]
    }
   ],
   "source": [
    "from tensorflow import keras\n",
    "print('keras: ', keras.__version__)\n",
    "\n",
    "from tensorflow.python.client import device_lib\n",
    "print(device_lib.list_local_devices())\n",
    "\n",
    "import tensorflow as tf\n",
    "print(tf.test.is_built_with_cuda())\n",
    "print(tf.config.list_physical_devices('GPU')) "
   ]
  },
  {
   "cell_type": "code",
   "execution_count": 12,
   "id": "cheap-elder",
   "metadata": {},
   "outputs": [
    {
     "name": "stdout",
     "output_type": "stream",
     "text": [
      "(26100, 29)\n",
      "(60900, 29)\n",
      "(26100, 21, 3)\n",
      "(60900, 21, 3)\n"
     ]
    }
   ],
   "source": [
    "import os\n",
    "import pandas as pd\n",
    "import numpy as np\n",
    "base_dir = 'archive'\n",
    "\n",
    "direList = os.path.join(base_dir, 'asl_alphabet_train/asl_alphabet_train')\n",
    "traindf = pd.read_csv(base_dir + '/static_train.csv', error_bad_lines=False)\n",
    "traindf.fillna(inplace = True, value = 0)\n",
    "\n",
    "\n",
    "y = traindf['word']\n",
    "x = traindf.iloc[:, 2:len(traindf.columns)]\n",
    "x = x.values\n",
    "x = x.reshape(-1, 21, 3)\n",
    "del traindf['word']\n",
    "del traindf['hand']\n",
    "\n",
    "\n",
    "from sklearn.preprocessing import LabelBinarizer\n",
    "from sklearn.model_selection import train_test_split\n",
    "\n",
    "x_train, x_test, y_train, y_test = train_test_split(x,y, test_size = 0.3, random_state = 10, shuffle=True)\n",
    "label_binarizer = LabelBinarizer()\n",
    "y_train = label_binarizer.fit_transform(y_train)\n",
    "y_test = label_binarizer.fit_transform(y_test)\n",
    "\n",
    "print(y_test.shape)\n",
    "print(y_train.shape)\n",
    "print(x_test.shape)\n",
    "print(x_train.shape)"
   ]
  },
  {
   "cell_type": "code",
   "execution_count": 30,
   "id": "vocational-beach",
   "metadata": {},
   "outputs": [
    {
     "name": "stdout",
     "output_type": "stream",
     "text": [
      "['A', 'B', 'C', 'D', 'del', 'E', 'F', 'G', 'H', 'I', 'J', 'K', 'L', 'M', 'N', 'nothing', 'O', 'P', 'Q', 'R', 'S', 'space', 'T', 'U', 'V', 'W', 'X', 'Y', 'Z']\n"
     ]
    },
    {
     "data": {
      "text/plain": [
       "29"
      ]
     },
     "execution_count": 30,
     "metadata": {},
     "output_type": "execute_result"
    }
   ],
   "source": [
    "dire = os.listdir(\n",
    "    'archive/asl_alphabet_train/asl_alphabet_train')\n",
    "print(dire)\n",
    "len(os.listdir(direList))"
   ]
  },
  {
   "cell_type": "code",
   "execution_count": 24,
   "id": "enclosed-documentation",
   "metadata": {},
   "outputs": [
    {
     "name": "stdout",
     "output_type": "stream",
     "text": [
      "Model: \"sequential_4\"\n",
      "_________________________________________________________________\n",
      "Layer (type)                 Output Shape              Param #   \n",
      "=================================================================\n",
      "dense_16 (Dense)             (None, 21, 512)           2048      \n",
      "_________________________________________________________________\n",
      "dense_17 (Dense)             (None, 21, 256)           131328    \n",
      "_________________________________________________________________\n",
      "dense_18 (Dense)             (None, 21, 128)           32896     \n",
      "_________________________________________________________________\n",
      "flatten_4 (Flatten)          (None, 2688)              0         \n",
      "_________________________________________________________________\n",
      "dense_19 (Dense)             (None, 29)                77981     \n",
      "=================================================================\n",
      "Total params: 244,253\n",
      "Trainable params: 244,253\n",
      "Non-trainable params: 0\n",
      "_________________________________________________________________\n"
     ]
    }
   ],
   "source": [
    "from tensorflow.keras import layers\n",
    "from tensorflow.keras import models\n",
    "from tensorflow.keras.models import Sequential\n",
    "from tensorflow.keras.layers import Dense, Conv2D , MaxPool2D , Flatten , Dropout , BatchNormalization\n",
    "\n",
    "model = Sequential()\n",
    "model.add(Dense(512, activation='relu', input_shape=(21,3)))\n",
    "model.add(Dense(256, activation='relu'))\n",
    "model.add(Dense(128, activation='relu'))\n",
    "model.add(Flatten())\n",
    "model.add(Dense(len(os.listdir(direList)) , activation = 'softmax'))\n",
    "model.compile(optimizer = 'adam' , loss = 'categorical_crossentropy' , metrics = ['accuracy'])\n",
    "model.summary()"
   ]
  },
  {
   "cell_type": "code",
   "execution_count": 25,
   "id": "framed-security",
   "metadata": {},
   "outputs": [
    {
     "name": "stdout",
     "output_type": "stream",
     "text": [
      "Epoch 1/25\n",
      "1904/1904 [==============================] - 11s 5ms/step - loss: 1.5316 - accuracy: 0.5867 - val_loss: 0.9691 - val_accuracy: 0.7375\n",
      "Epoch 2/25\n",
      "1904/1904 [==============================] - 9s 5ms/step - loss: 0.9071 - accuracy: 0.7612 - val_loss: 0.8699 - val_accuracy: 0.7713\n",
      "Epoch 3/25\n",
      "1904/1904 [==============================] - 9s 5ms/step - loss: 0.8515 - accuracy: 0.7736 - val_loss: 0.8509 - val_accuracy: 0.7764\n",
      "Epoch 4/25\n",
      "1904/1904 [==============================] - 9s 5ms/step - loss: 0.8274 - accuracy: 0.7794 - val_loss: 0.8166 - val_accuracy: 0.7842\n",
      "Epoch 5/25\n",
      "1904/1904 [==============================] - 9s 5ms/step - loss: 0.7918 - accuracy: 0.7870 - val_loss: 0.7794 - val_accuracy: 0.7925\n",
      "Epoch 6/25\n",
      "1904/1904 [==============================] - 10s 5ms/step - loss: 0.7659 - accuracy: 0.7955 - val_loss: 0.7914 - val_accuracy: 0.7877- loss: 0.7657 - \n",
      "Epoch 7/25\n",
      "1904/1904 [==============================] - 11s 6ms/step - loss: 0.7567 - accuracy: 0.7954 - val_loss: 0.7945 - val_accuracy: 0.7902\n",
      "Epoch 8/25\n",
      "1904/1904 [==============================] - 12s 6ms/step - loss: 0.7391 - accuracy: 0.8009 - val_loss: 0.7672 - val_accuracy: 0.7961\n",
      "Epoch 9/25\n",
      "1904/1904 [==============================] - 10s 5ms/step - loss: 0.7331 - accuracy: 0.8036 - val_loss: 0.7549 - val_accuracy: 0.7985\n",
      "Epoch 10/25\n",
      "1904/1904 [==============================] - 10s 5ms/step - loss: 0.7228 - accuracy: 0.8047 - val_loss: 0.7390 - val_accuracy: 0.8047\n",
      "Epoch 11/25\n",
      "1904/1904 [==============================] - 10s 5ms/step - loss: 0.7084 - accuracy: 0.8069 - val_loss: 0.7505 - val_accuracy: 0.7994\n",
      "Epoch 12/25\n",
      "1904/1904 [==============================] - 10s 5ms/step - loss: 0.7018 - accuracy: 0.8118 - val_loss: 0.7581 - val_accuracy: 0.8002\n",
      "Epoch 13/25\n",
      "1904/1904 [==============================] - 10s 5ms/step - loss: 0.7008 - accuracy: 0.8111 - val_loss: 0.7282 - val_accuracy: 0.8058\n",
      "Epoch 14/25\n",
      "1904/1904 [==============================] - 10s 5ms/step - loss: 0.6831 - accuracy: 0.8152 - val_loss: 0.7405 - val_accuracy: 0.8030\n",
      "Epoch 15/25\n",
      "1904/1904 [==============================] - 10s 5ms/step - loss: 0.6716 - accuracy: 0.8174 - val_loss: 0.7302 - val_accuracy: 0.8109\n",
      "Epoch 16/25\n",
      "1904/1904 [==============================] - 10s 6ms/step - loss: 0.6828 - accuracy: 0.8140 - val_loss: 0.7285 - val_accuracy: 0.8094\n",
      "Epoch 17/25\n",
      "1904/1904 [==============================] - 10s 5ms/step - loss: 0.6682 - accuracy: 0.8188 - val_loss: 0.7181 - val_accuracy: 0.8107\n",
      "Epoch 18/25\n",
      "1904/1904 [==============================] - 9s 5ms/step - loss: 0.6639 - accuracy: 0.8191 - val_loss: 0.7256 - val_accuracy: 0.8098\n",
      "Epoch 19/25\n",
      "1904/1904 [==============================] - 9s 5ms/step - loss: 0.6653 - accuracy: 0.8189 - val_loss: 0.7137 - val_accuracy: 0.8134\n",
      "Epoch 20/25\n",
      "1904/1904 [==============================] - 10s 5ms/step - loss: 0.6560 - accuracy: 0.8219 - val_loss: 0.7238 - val_accuracy: 0.8112\n",
      "Epoch 21/25\n",
      "1904/1904 [==============================] - 10s 5ms/step - loss: 0.6458 - accuracy: 0.8241 - val_loss: 0.7237 - val_accuracy: 0.8134\n",
      "Epoch 22/25\n",
      "1904/1904 [==============================] - 10s 5ms/step - loss: 0.6500 - accuracy: 0.8226 - val_loss: 0.7332 - val_accuracy: 0.8076\n",
      "Epoch 23/25\n",
      "1904/1904 [==============================] - 10s 5ms/step - loss: 0.6502 - accuracy: 0.8228 - val_loss: 0.7232 - val_accuracy: 0.8133\n",
      "Epoch 24/25\n",
      "1904/1904 [==============================] - 9s 5ms/step - loss: 0.6355 - accuracy: 0.8272 - val_loss: 0.7342 - val_accuracy: 0.8107\n",
      "Epoch 25/25\n",
      "1904/1904 [==============================] - 9s 5ms/step - loss: 0.6413 - accuracy: 0.8239 - val_loss: 0.7431 - val_accuracy: 0.8097\n"
     ]
    }
   ],
   "source": [
    "history = model.fit(x_train,y_train, batch_size = 32,epochs = 25, validation_data = (x_test, y_test))"
   ]
  },
  {
   "cell_type": "code",
   "execution_count": 26,
   "id": "willing-cleanup",
   "metadata": {},
   "outputs": [
    {
     "data": {
      "image/png": "[encoded data removed]",
      "text/plain": [
       "<Figure size 432x288 with 1 Axes>"
      ]
     },
     "metadata": {
      "needs_background": "light"
     },
     "output_type": "display_data"
    },
    {
     "data": {
      "image/png": "[encoded data removed]",
      "text/plain": [
       "<Figure size 432x288 with 1 Axes>"
      ]
     },
     "metadata": {
      "needs_background": "light"
     },
     "output_type": "display_data"
    }
   ],
   "source": [
    "import matplotlib.pyplot as plt\n",
    "%matplotlib inline\n",
    "\n",
    "acc = history.history['accuracy']\n",
    "val_acc = history.history['val_accuracy']\n",
    "loss = history.history['loss']\n",
    "val_loss = history.history['val_loss']\n",
    "\n",
    "epochs = range(len(acc))\n",
    "\n",
    "plt.plot(epochs, acc, 'bo', label='Training acc')\n",
    "plt.plot(epochs, val_acc, 'b', label='Validation acc')\n",
    "plt.title('Training and validation accuracy')\n",
    "plt.legend()\n",
    "\n",
    "plt.figure()\n",
    "\n",
    "plt.plot(epochs, loss, 'bo', label='Training loss')\n",
    "plt.plot(epochs, val_loss, 'b', label='Validation loss')\n",
    "plt.title('Training and validation loss')\n",
    "plt.legend()\n",
    "\n",
    "plt.show()"
   ]
  },
  {
   "cell_type": "code",
   "execution_count": 27,
   "id": "distinct-dominant",
   "metadata": {},
   "outputs": [
    {
     "name": "stdout",
     "output_type": "stream",
     "text": [
      "1/1 [==============================] - 0s 14ms/step - loss: 0.8769 - accuracy: 0.7586\n"
     ]
    },
    {
     "data": {
      "text/plain": [
       "[0.8769142031669617, 0.7586206793785095]"
      ]
     },
     "execution_count": 27,
     "metadata": {},
     "output_type": "execute_result"
    }
   ],
   "source": [
    "# evaluate\n",
    "testdf = pd.read_csv(base_dir + '/static_test.csv', error_bad_lines=False)\n",
    "testdf.fillna(inplace = True, value = 0)\n",
    "\n",
    "y = testdf['word']\n",
    "x = testdf.iloc[:, 2:len(testdf.columns)]\n",
    "x = x.values\n",
    "x_actualtest = x.reshape(-1, 21, 3)\n",
    "\n",
    "label_binarizer = LabelBinarizer()\n",
    "y_actualtest = label_binarizer.fit_transform(y)\n",
    "\n",
    "y_actualtest.shape\n",
    "x_actualtest.shape\n",
    "model.evaluate(x_actualtest, y_actualtest)"
   ]
  },
  {
   "cell_type": "code",
   "execution_count": 31,
   "id": "median-sphere",
   "metadata": {},
   "outputs": [
    {
     "name": "stdout",
     "output_type": "stream",
     "text": [
      "The prediction is:  T \n",
      "\n",
      "               A             B             C             D           del  \\\n",
      "0  1.077628e-19  1.110197e-23  7.618386e-35  1.529925e-33  1.434846e-07   \n",
      "\n",
      "              E             F             G             H             I  ...  \\\n",
      "0  1.065570e-16  1.180541e-31  1.462382e-28  6.800614e-34  5.190135e-21  ...   \n",
      "\n",
      "              R             S         space    T             U             V  \\\n",
      "0  5.668744e-27  1.191627e-15  6.302513e-18  1.0  1.857700e-15  4.260120e-33   \n",
      "\n",
      "              W             X    Y             Z  \n",
      "0  9.552047e-23  1.069531e-34  0.0  5.022355e-30  \n",
      "\n",
      "[1 rows x 29 columns]\n",
      "[[ 2.6224542e-01  9.1816145e-01 -1.5285921e-04]\n",
      " [ 4.0013412e-01  9.1367700e-01 -1.5112565e-01]\n",
      " [ 4.6398920e-01  8.0253404e-01 -2.3421150e-01]\n",
      " [ 3.4226520e-01  7.0758730e-01 -2.8246897e-01]\n",
      " [ 2.0763567e-01  6.3715255e-01 -2.7010632e-01]\n",
      " [ 4.9119592e-01  5.8225363e-01 -1.5797919e-01]\n",
      " [ 5.7623947e-01  4.2501570e-01 -2.6932746e-01]\n",
      " [ 6.3034750e-01  3.1523260e-01 -3.5861787e-01]\n",
      " [ 6.5927560e-01  2.1790251e-01 -4.3683228e-01]\n",
      " [ 3.8686633e-01  5.3828627e-01 -1.6715303e-01]\n",
      " [ 4.1083800e-01  3.5064274e-01 -2.7356980e-01]\n",
      " [ 4.3375670e-01  2.1731630e-01 -3.6141223e-01]\n",
      " [ 4.4856602e-01  9.5563980e-02 -4.2496600e-01]\n",
      " [ 2.7976330e-01  5.5171670e-01 -1.8419598e-01]\n",
      " [ 2.4777500e-01  3.7339246e-01 -2.9908147e-01]\n",
      " [ 2.4276263e-01  2.4253040e-01 -3.7623525e-01]\n",
      " [ 2.4428287e-01  1.0753432e-01 -4.1449055e-01]\n",
      " [ 1.8316965e-01  6.0652680e-01 -2.0892061e-01]\n",
      " [ 1.8609214e-01  5.9435900e-01 -3.0274030e-01]\n",
      " [ 2.1110548e-01  7.0225304e-01 -2.9087827e-01]\n",
      " [ 2.3475698e-01  7.8891840e-01 -2.7066514e-01]]\n"
     ]
    }
   ],
   "source": [
    "def prediction(model, array, items_l):\n",
    "    prob = model.predict(array.reshape(-1, 21, 3))\n",
    "    pro_df = pd.DataFrame(prob, columns = items_l)\n",
    "    result = items_l[np.argmax(prob)]\n",
    "    return pro_df, result\n",
    "\n",
    "prob_df, result = prediction(model, x_actualtest[25], dire)\n",
    "print('The prediction is: ', result, '\\n\\n', prob_df)\n",
    "\n",
    "print(x_actualtest[25])"
   ]
  },
  {
   "cell_type": "code",
   "execution_count": 32,
   "id": "offshore-semiconductor",
   "metadata": {},
   "outputs": [],
   "source": [
    "model.save('testModel.h5')"
   ]
  },
  {
   "cell_type": "code",
   "execution_count": null,
   "id": "activated-photography",
   "metadata": {},
   "outputs": [],
   "source": []
  }
 ],
 "metadata": {
  "kernelspec": {
   "display_name": "Python 3",
   "language": "python",
   "name": "python3"
  },
  "language_info": {
   "codemirror_mode": {
    "name": "ipython",
    "version": 3
   },
   "file_extension": ".py",
   "mimetype": "text/x-python",
   "name": "python",
   "nbconvert_exporter": "python",
   "pygments_lexer": "ipython3",
   "version": "3.8.10"
  }
 },
 "nbformat": 4,
 "nbformat_minor": 5
}
