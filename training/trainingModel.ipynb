{
 "cells": [
  {
   "cell_type": "code",
   "execution_count": 1,
   "id": "bigger-villa",
   "metadata": {},
   "outputs": [],
   "source": [
    "#Imports\n",
    "import tensorflow\n",
    "from tensorflow import keras\n",
    "from tensorflow.keras import layers\n",
    "from tensorflow.keras import models\n",
    "from tensorflow.keras.models import Sequential\n",
    "from tensorflow.keras.layers import Dense, Conv2D , MaxPooling2D , Flatten , Dropout , BatchNormalization\n",
    "from tensorflow.keras.preprocessing.image import ImageDataGenerator\n",
    "\n",
    "import os\n",
    "import pandas as pd\n",
    "import numpy as np\n",
    "import cv2\n",
    "import gc\n",
    "\n",
    "import matplotlib.pyplot as plt"
   ]
  },
  {
   "cell_type": "code",
   "execution_count": 2,
   "id": "cheap-elder",
   "metadata": {
    "scrolled": true
   },
   "outputs": [
    {
     "name": "stdout",
     "output_type": "stream",
     "text": [
      "Found 69600 images belonging to 29 classes.\n",
      "Found 13050 images belonging to 29 classes.\n"
     ]
    }
   ],
   "source": [
    "base_dir = '../data'\n",
    "\n",
    "img_size = 128\n",
    "\n",
    "train_dir = os.path.join(base_dir, 'train')\n",
    "validation_dir = os.path.join(base_dir, 'validation')\n",
    "test_dir = os.path.join(base_dir, 'test')\n",
    "\n",
    "# All images will be rescaled by 1./255\n",
    "train_datagen = ImageDataGenerator(rescale=1./255)\n",
    "test_datagen = ImageDataGenerator(rescale=1./255)\n",
    "\n",
    "train_generator = train_datagen.flow_from_directory(\n",
    "        train_dir,\n",
    "        target_size=(img_size, img_size),\n",
    "        batch_size=20,\n",
    "        class_mode='categorical')\n",
    "\n",
    "validation_generator = test_datagen.flow_from_directory(\n",
    "        validation_dir,\n",
    "        target_size=(img_size, img_size),\n",
    "        batch_size=20,\n",
    "        class_mode='categorical')\n",
    "\n",
    "# from sklearn.preprocessing import LabelBinarizer\n",
    "# from sklearn.model_selection import train_test_split\n",
    "\n",
    "# x_train, x_test, y_train, y_test = train_test_split(x,y, test_size = 0.3, random_state = 10, shuffle=True)\n",
    "# label_binarizer = LabelBinarizer()\n",
    "# y_train = label_binarizer.fit_transform(y_train)\n",
    "# y_test = label_binarizer.fit_transform(y_test)\n",
    "\n",
    "# print(y_test.shape)\n",
    "# print(y_train.shape)\n",
    "# print(x_test.shape)\n",
    "# print(x_train.shape)"
   ]
  },
  {
   "cell_type": "code",
   "execution_count": 6,
   "id": "enclosed-documentation",
   "metadata": {},
   "outputs": [
    {
     "name": "stdout",
     "output_type": "stream",
     "text": [
      "Model: \"sequential_1\"\n",
      "_________________________________________________________________\n",
      "Layer (type)                 Output Shape              Param #   \n",
      "=================================================================\n",
      "conv2d_4 (Conv2D)            (None, 127, 127, 256)     3328      \n",
      "_________________________________________________________________\n",
      "max_pooling2d_4 (MaxPooling2 (None, 63, 63, 256)       0         \n",
      "_________________________________________________________________\n",
      "conv2d_5 (Conv2D)            (None, 62, 62, 256)       262400    \n",
      "_________________________________________________________________\n",
      "max_pooling2d_5 (MaxPooling2 (None, 31, 31, 256)       0         \n",
      "_________________________________________________________________\n",
      "conv2d_6 (Conv2D)            (None, 30, 30, 128)       131200    \n",
      "_________________________________________________________________\n",
      "max_pooling2d_6 (MaxPooling2 (None, 15, 15, 128)       0         \n",
      "_________________________________________________________________\n",
      "conv2d_7 (Conv2D)            (None, 14, 14, 64)        32832     \n",
      "_________________________________________________________________\n",
      "max_pooling2d_7 (MaxPooling2 (None, 7, 7, 64)          0         \n",
      "_________________________________________________________________\n",
      "flatten_1 (Flatten)          (None, 3136)              0         \n",
      "_________________________________________________________________\n",
      "dense_2 (Dense)              (None, 258)               809346    \n",
      "_________________________________________________________________\n",
      "dense_3 (Dense)              (None, 29)                7511      \n",
      "=================================================================\n",
      "Total params: 1,246,617\n",
      "Trainable params: 1,246,617\n",
      "Non-trainable params: 0\n",
      "_________________________________________________________________\n"
     ]
    }
   ],
   "source": [
    "model = Sequential()\n",
    "model.add(Conv2D(256, (2,2), input_shape=(img_size,img_size,3), activation='relu'))\n",
    "model.add(MaxPooling2D((2, 2)))\n",
    "\n",
    "model.add(Conv2D(256, (2,2), activation='relu'))\n",
    "model.add(MaxPooling2D((2, 2)))\n",
    "\n",
    "model.add(Conv2D(128, (2,2), activation='relu'))\n",
    "model.add(MaxPooling2D((2, 2)))\n",
    "\n",
    "model.add(Conv2D(64, (2,2), activation='relu'))\n",
    "model.add(MaxPooling2D((2, 2)))\n",
    "\n",
    "model.add(Flatten())\n",
    "\n",
    "model.add(Dense(258, activation = 'relu'))\n",
    "model.add(Dense(29, activation = 'softmax'))\n",
    "\n",
    "model.compile(optimizer = 'adam' , loss = 'categorical_crossentropy' , metrics = ['accuracy'])\n",
    "model.summary()"
   ]
  },
  {
   "cell_type": "code",
   "execution_count": 7,
   "id": "framed-security",
   "metadata": {},
   "outputs": [
    {
     "name": "stdout",
     "output_type": "stream",
     "text": [
      "Epoch 1/10\n",
      "696/696 [==============================] - 35s 50ms/step - loss: 2.8267 - accuracy: 0.1858 - val_loss: 1.2838 - val_accuracy: 0.6319\n",
      "Epoch 2/10\n",
      "696/696 [==============================] - 35s 50ms/step - loss: 0.6438 - accuracy: 0.7979 - val_loss: 1.0727 - val_accuracy: 0.7158\n",
      "Epoch 3/10\n",
      "696/696 [==============================] - 35s 50ms/step - loss: 0.3115 - accuracy: 0.8942 - val_loss: 1.1266 - val_accuracy: 0.7808\n",
      "Epoch 4/10\n",
      "696/696 [==============================] - 35s 50ms/step - loss: 0.2002 - accuracy: 0.9313 - val_loss: 1.1626 - val_accuracy: 0.7950\n",
      "Epoch 5/10\n",
      "696/696 [==============================] - 34s 49ms/step - loss: 0.1372 - accuracy: 0.9538 - val_loss: 1.0943 - val_accuracy: 0.7765\n",
      "Epoch 6/10\n",
      "696/696 [==============================] - 36s 52ms/step - loss: 0.1035 - accuracy: 0.9656 - val_loss: 1.3082 - val_accuracy: 0.7754\n",
      "Epoch 7/10\n",
      "696/696 [==============================] - 37s 53ms/step - loss: 0.1084 - accuracy: 0.9648 - val_loss: 1.2597 - val_accuracy: 0.7812\n",
      "Epoch 8/10\n",
      "696/696 [==============================] - 37s 53ms/step - loss: 0.0719 - accuracy: 0.9761 - val_loss: 1.1453 - val_accuracy: 0.8112\n",
      "Epoch 9/10\n",
      "696/696 [==============================] - 36s 52ms/step - loss: 0.0649 - accuracy: 0.9782 - val_loss: 1.1170 - val_accuracy: 0.8019\n",
      "Epoch 10/10\n",
      "696/696 [==============================] - 35s 50ms/step - loss: 0.0660 - accuracy: 0.9786 - val_loss: 1.0936 - val_accuracy: 0.8127\n"
     ]
    }
   ],
   "source": [
    "history = model.fit(\n",
    "train_generator,\n",
    "epochs = 10,\n",
    "steps_per_epoch = 696,\n",
    "validation_data = validation_generator,\n",
    "validation_steps = 130)"
   ]
  },
  {
   "cell_type": "code",
   "execution_count": 8,
   "id": "willing-cleanup",
   "metadata": {},
   "outputs": [
    {
     "data": {
      "image/png": "[encoded data removed]",
      "text/plain": [
       "<Figure size 432x288 with 1 Axes>"
      ]
     },
     "metadata": {
      "needs_background": "light"
     },
     "output_type": "display_data"
    },
    {
     "data": {
      "image/png": "[encoded data removed]",
      "text/plain": [
       "<Figure size 432x288 with 1 Axes>"
      ]
     },
     "metadata": {
      "needs_background": "light"
     },
     "output_type": "display_data"
    }
   ],
   "source": [
    "import matplotlib.pyplot as plt\n",
    "%matplotlib inline\n",
    "\n",
    "acc = history.history['accuracy']\n",
    "val_acc = history.history['val_accuracy']\n",
    "loss = history.history['loss']\n",
    "val_loss = history.history['val_loss']\n",
    "\n",
    "epochs = range(len(acc))\n",
    "\n",
    "plt.plot(epochs, acc, 'bo', label='Training acc')\n",
    "plt.plot(epochs, val_acc, 'b', label='Validation acc')\n",
    "plt.title('Training and validation accuracy')\n",
    "plt.legend()\n",
    "\n",
    "plt.figure()\n",
    "\n",
    "plt.plot(epochs, loss, 'bo', label='Training loss')\n",
    "plt.plot(epochs, val_loss, 'b', label='Validation loss')\n",
    "plt.title('Training and validation loss')\n",
    "plt.legend()\n",
    "\n",
    "plt.show()"
   ]
  },
  {
   "cell_type": "code",
   "execution_count": 10,
   "id": "offshore-semiconductor",
   "metadata": {},
   "outputs": [],
   "source": [
    "model.save('testModel.h5')"
   ]
  },
  {
   "cell_type": "code",
   "execution_count": 45,
   "id": "c92ba23f",
   "metadata": {},
   "outputs": [
    {
     "data": {
      "text/plain": [
       "'O'"
      ]
     },
     "execution_count": 45,
     "metadata": {},
     "output_type": "execute_result"
    }
   ],
   "source": [
    "dire = list('ABCDEFGHIJKLMNOPQRSTUVWXYZ')\n",
    "dire.insert(4, 'del')\n",
    "dire.insert(19, 'space')\n",
    "dire.insert(14, 'nothing')\n",
    "def prediction(model, array, items_l):\n",
    "    prob = model.predict(array.reshape(1, img_size, img_size,3 ))\n",
    "    pro_df = pd.DataFrame(prob, columns = items_l)\n",
    "    cv2.imshow('test', array)\n",
    "    if np.argmax(prob) > 0.9:\n",
    "        result = items_l[np.argmax(prob)]\n",
    "    else:\n",
    "        result = ''\n",
    "    return pro_df, result\n",
    "\n",
    "from tensorflow.keras.preprocessing.image import load_img, img_to_array\n",
    "def image_process(img):\n",
    "    image = load_img(img, target_size =(img_size, img_size))\n",
    "    image_array = img_to_array(image)/255\n",
    "    return image_array\n",
    "\n",
    "import cv2\n",
    "img_array = image_process('a.jpg')\n",
    "pro_df, result = prediction(model, img_array, dire)\n",
    "result"
   ]
  },
  {
   "cell_type": "code",
   "execution_count": null,
   "id": "traditional-polymer",
   "metadata": {},
   "outputs": [],
   "source": []
  }
 ],
 "metadata": {
  "kernelspec": {
   "display_name": "Python 3",
   "language": "python",
   "name": "python3"
  },
  "language_info": {
   "codemirror_mode": {
    "name": "ipython",
    "version": 3
   },
   "file_extension": ".py",
   "mimetype": "text/x-python",
   "name": "python",
   "nbconvert_exporter": "python",
   "pygments_lexer": "ipython3",
   "version": "3.8.10"
  }
 },
 "nbformat": 4,
 "nbformat_minor": 5
}
